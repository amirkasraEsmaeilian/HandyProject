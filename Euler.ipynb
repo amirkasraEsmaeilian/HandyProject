{
 "cells": [
  {
   "cell_type": "markdown",
   "id": "8cc60036",
   "metadata": {},
   "source": [
    "## Project euler\n",
    "### Problem 1"
   ]
  },
  {
   "cell_type": "code",
   "execution_count": 1,
   "id": "f48c3d6a",
   "metadata": {},
   "outputs": [],
   "source": [
    "def isMultiplicationsOf3or5(n):\n",
    "    if n % 3 == 0 or n % 5 == 0:\n",
    "        return True\n",
    "    else:\n",
    "        return False"
   ]
  },
  {
   "cell_type": "markdown",
   "id": "1043b1fd",
   "metadata": {},
   "source": [
    "If our number is Multiplications of 3 or 5, **plus it to sum var**."
   ]
  },
  {
   "cell_type": "code",
   "execution_count": 2,
   "id": "d1aa390e",
   "metadata": {},
   "outputs": [
    {
     "name": "stdout",
     "output_type": "stream",
     "text": [
      "233168\n"
     ]
    }
   ],
   "source": [
    "sum = 0\n",
    "for num in range(1000):\n",
    "    if isMultiplicationsOf3or5(num) == True:\n",
    "        sum += num\n",
    "print(sum)"
   ]
  },
  {
   "cell_type": "markdown",
   "id": "461271d8",
   "metadata": {},
   "source": [
    "## Project euler\n",
    "### Problem 2"
   ]
  },
  {
   "cell_type": "code",
   "execution_count": 3,
   "id": "b6aca92d",
   "metadata": {},
   "outputs": [],
   "source": [
    "def isEven(n):\n",
    "    if n % 2 == 0:\n",
    "        return True\n",
    "    else:\n",
    "        return False"
   ]
  },
  {
   "cell_type": "code",
   "execution_count": 4,
   "id": "9fc1f0bd",
   "metadata": {},
   "outputs": [
    {
     "data": {
      "text/plain": [
       "4613732"
      ]
     },
     "execution_count": 4,
     "metadata": {},
     "output_type": "execute_result"
    }
   ],
   "source": [
    "def fib(ourRange):\n",
    "    first = 1\n",
    "    second = 2\n",
    "    new = 0\n",
    "    sum = 0\n",
    "    while first < ourRange:\n",
    "        if isEven(first) == True:\n",
    "            sum += first\n",
    "        new = first + second\n",
    "        first = second\n",
    "        second = new\n",
    "    return sum\n",
    "\n",
    "\n",
    "fib(4*10**6)"
   ]
  },
  {
   "cell_type": "markdown",
   "id": "da9ed956",
   "metadata": {},
   "source": [
    "## Project euler\n",
    "### Problem 3"
   ]
  },
  {
   "cell_type": "code",
   "execution_count": 5,
   "id": "0f81f948",
   "metadata": {},
   "outputs": [
    {
     "data": {
      "text/plain": [
       "[(71, 1), (839, 1), (1471, 1), (6857.0, 1)]"
      ]
     },
     "execution_count": 5,
     "metadata": {},
     "output_type": "execute_result"
    }
   ],
   "source": [
    "def factor(num):\n",
    "    result = []\n",
    "    x = 2\n",
    "    while x * x <= num :\n",
    "        if num % x == 0 :\n",
    "            rTimes = 0\n",
    "            while num % x == 0:\n",
    "                num /= x\n",
    "                rTimes += 1\n",
    "            result.append((x, rTimes))\n",
    "        x += 1\n",
    "    if num > 1:\n",
    "        result.append((num, 1))\n",
    "    return result\n",
    "\n",
    "\n",
    "factor(600851475143)"
   ]
  },
  {
   "cell_type": "markdown",
   "id": "c27f888a",
   "metadata": {},
   "source": [
    "## Project euler\n",
    "### Problem 4"
   ]
  },
  {
   "cell_type": "code",
   "execution_count": 6,
   "id": "4bddb062",
   "metadata": {},
   "outputs": [],
   "source": [
    "def isPalindromic(num):\n",
    "    listNum = [int(x) for x in str(num)]\n",
    "    if listNum == listNum[::-1]:\n",
    "        return True\n",
    "    else:\n",
    "        return False"
   ]
  },
  {
   "cell_type": "code",
   "execution_count": 7,
   "id": "237b8d95",
   "metadata": {},
   "outputs": [
    {
     "name": "stdout",
     "output_type": "stream",
     "text": [
      "906609\n"
     ]
    }
   ],
   "source": [
    "res = []\n",
    "for i in range(999,99,-1):\n",
    "    for x in range(999,99,-1):\n",
    "        if isPalindromic(i*x) == True:\n",
    "            res.append(i*x)\n",
    "            break\n",
    "\n",
    "print(max(res))"
   ]
  }
 ],
 "metadata": {
  "kernelspec": {
   "display_name": "Python 3",
   "language": "python",
   "name": "python3"
  },
  "language_info": {
   "codemirror_mode": {
    "name": "ipython",
    "version": 3
   },
   "file_extension": ".py",
   "mimetype": "text/x-python",
   "name": "python",
   "nbconvert_exporter": "python",
   "pygments_lexer": "ipython3",
   "version": "3.8.6"
  }
 },
 "nbformat": 4,
 "nbformat_minor": 5
}
